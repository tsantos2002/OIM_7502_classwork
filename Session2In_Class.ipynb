{
 "cells": [
  {
   "cell_type": "code",
   "execution_count": 2,
   "id": "4fffb91c-e298-4966-8024-3a8bdeb8858d",
   "metadata": {},
   "outputs": [],
   "source": [
    "import matplotlib as plt\n",
    "import numpy as np\n",
    "import numpy.random as npr\n",
    "import pandas as pd"
   ]
  },
  {
   "cell_type": "code",
   "execution_count": 4,
   "id": "8ec1b9d4-54f7-4746-8554-6694db3722f7",
   "metadata": {},
   "outputs": [],
   "source": [
    "data = pd.read_csv('data/wage.csv')"
   ]
  },
  {
   "cell_type": "code",
   "execution_count": 6,
   "id": "da09ab15-27db-4956-8883-392c0881ad0a",
   "metadata": {},
   "outputs": [
    {
     "data": {
      "text/html": [
       "<div>\n",
       "<style scoped>\n",
       "    .dataframe tbody tr th:only-of-type {\n",
       "        vertical-align: middle;\n",
       "    }\n",
       "\n",
       "    .dataframe tbody tr th {\n",
       "        vertical-align: top;\n",
       "    }\n",
       "\n",
       "    .dataframe thead th {\n",
       "        text-align: right;\n",
       "    }\n",
       "</style>\n",
       "<table border=\"1\" class=\"dataframe\">\n",
       "  <thead>\n",
       "    <tr style=\"text-align: right;\">\n",
       "      <th></th>\n",
       "      <th>year</th>\n",
       "      <th>age</th>\n",
       "      <th>maritl</th>\n",
       "      <th>race</th>\n",
       "      <th>education</th>\n",
       "      <th>region</th>\n",
       "      <th>jobclass</th>\n",
       "      <th>health</th>\n",
       "      <th>health_ins</th>\n",
       "      <th>logwage</th>\n",
       "      <th>wage</th>\n",
       "    </tr>\n",
       "  </thead>\n",
       "  <tbody>\n",
       "    <tr>\n",
       "      <th>0</th>\n",
       "      <td>2006</td>\n",
       "      <td>18</td>\n",
       "      <td>1. Never Married</td>\n",
       "      <td>1. White</td>\n",
       "      <td>1. &lt; HS Grad</td>\n",
       "      <td>2. Middle Atlantic</td>\n",
       "      <td>1. Industrial</td>\n",
       "      <td>1. &lt;=Good</td>\n",
       "      <td>2. No</td>\n",
       "      <td>4.318063</td>\n",
       "      <td>75.043154</td>\n",
       "    </tr>\n",
       "    <tr>\n",
       "      <th>1</th>\n",
       "      <td>2004</td>\n",
       "      <td>24</td>\n",
       "      <td>1. Never Married</td>\n",
       "      <td>1. White</td>\n",
       "      <td>4. College Grad</td>\n",
       "      <td>2. Middle Atlantic</td>\n",
       "      <td>2. Information</td>\n",
       "      <td>2. &gt;=Very Good</td>\n",
       "      <td>2. No</td>\n",
       "      <td>4.255273</td>\n",
       "      <td>70.476020</td>\n",
       "    </tr>\n",
       "    <tr>\n",
       "      <th>2</th>\n",
       "      <td>2003</td>\n",
       "      <td>45</td>\n",
       "      <td>2. Married</td>\n",
       "      <td>1. White</td>\n",
       "      <td>3. Some College</td>\n",
       "      <td>2. Middle Atlantic</td>\n",
       "      <td>1. Industrial</td>\n",
       "      <td>1. &lt;=Good</td>\n",
       "      <td>1. Yes</td>\n",
       "      <td>4.875061</td>\n",
       "      <td>130.982177</td>\n",
       "    </tr>\n",
       "    <tr>\n",
       "      <th>3</th>\n",
       "      <td>2003</td>\n",
       "      <td>43</td>\n",
       "      <td>2. Married</td>\n",
       "      <td>3. Asian</td>\n",
       "      <td>4. College Grad</td>\n",
       "      <td>2. Middle Atlantic</td>\n",
       "      <td>2. Information</td>\n",
       "      <td>2. &gt;=Very Good</td>\n",
       "      <td>1. Yes</td>\n",
       "      <td>5.041393</td>\n",
       "      <td>154.685293</td>\n",
       "    </tr>\n",
       "    <tr>\n",
       "      <th>4</th>\n",
       "      <td>2005</td>\n",
       "      <td>50</td>\n",
       "      <td>4. Divorced</td>\n",
       "      <td>1. White</td>\n",
       "      <td>2. HS Grad</td>\n",
       "      <td>2. Middle Atlantic</td>\n",
       "      <td>2. Information</td>\n",
       "      <td>1. &lt;=Good</td>\n",
       "      <td>1. Yes</td>\n",
       "      <td>4.318063</td>\n",
       "      <td>75.043154</td>\n",
       "    </tr>\n",
       "    <tr>\n",
       "      <th>5</th>\n",
       "      <td>2008</td>\n",
       "      <td>54</td>\n",
       "      <td>2. Married</td>\n",
       "      <td>1. White</td>\n",
       "      <td>4. College Grad</td>\n",
       "      <td>2. Middle Atlantic</td>\n",
       "      <td>2. Information</td>\n",
       "      <td>2. &gt;=Very Good</td>\n",
       "      <td>1. Yes</td>\n",
       "      <td>4.845098</td>\n",
       "      <td>127.115744</td>\n",
       "    </tr>\n",
       "    <tr>\n",
       "      <th>6</th>\n",
       "      <td>2009</td>\n",
       "      <td>44</td>\n",
       "      <td>2. Married</td>\n",
       "      <td>4. Other</td>\n",
       "      <td>3. Some College</td>\n",
       "      <td>2. Middle Atlantic</td>\n",
       "      <td>1. Industrial</td>\n",
       "      <td>2. &gt;=Very Good</td>\n",
       "      <td>1. Yes</td>\n",
       "      <td>5.133021</td>\n",
       "      <td>169.528538</td>\n",
       "    </tr>\n",
       "    <tr>\n",
       "      <th>7</th>\n",
       "      <td>2008</td>\n",
       "      <td>30</td>\n",
       "      <td>1. Never Married</td>\n",
       "      <td>3. Asian</td>\n",
       "      <td>3. Some College</td>\n",
       "      <td>2. Middle Atlantic</td>\n",
       "      <td>2. Information</td>\n",
       "      <td>1. &lt;=Good</td>\n",
       "      <td>1. Yes</td>\n",
       "      <td>4.716003</td>\n",
       "      <td>111.720849</td>\n",
       "    </tr>\n",
       "    <tr>\n",
       "      <th>8</th>\n",
       "      <td>2006</td>\n",
       "      <td>41</td>\n",
       "      <td>1. Never Married</td>\n",
       "      <td>2. Black</td>\n",
       "      <td>3. Some College</td>\n",
       "      <td>2. Middle Atlantic</td>\n",
       "      <td>2. Information</td>\n",
       "      <td>2. &gt;=Very Good</td>\n",
       "      <td>1. Yes</td>\n",
       "      <td>4.778151</td>\n",
       "      <td>118.884359</td>\n",
       "    </tr>\n",
       "    <tr>\n",
       "      <th>9</th>\n",
       "      <td>2004</td>\n",
       "      <td>52</td>\n",
       "      <td>2. Married</td>\n",
       "      <td>1. White</td>\n",
       "      <td>2. HS Grad</td>\n",
       "      <td>2. Middle Atlantic</td>\n",
       "      <td>2. Information</td>\n",
       "      <td>2. &gt;=Very Good</td>\n",
       "      <td>1. Yes</td>\n",
       "      <td>4.857332</td>\n",
       "      <td>128.680488</td>\n",
       "    </tr>\n",
       "  </tbody>\n",
       "</table>\n",
       "</div>"
      ],
      "text/plain": [
       "   year  age            maritl      race        education              region  \\\n",
       "0  2006   18  1. Never Married  1. White     1. < HS Grad  2. Middle Atlantic   \n",
       "1  2004   24  1. Never Married  1. White  4. College Grad  2. Middle Atlantic   \n",
       "2  2003   45        2. Married  1. White  3. Some College  2. Middle Atlantic   \n",
       "3  2003   43        2. Married  3. Asian  4. College Grad  2. Middle Atlantic   \n",
       "4  2005   50       4. Divorced  1. White       2. HS Grad  2. Middle Atlantic   \n",
       "5  2008   54        2. Married  1. White  4. College Grad  2. Middle Atlantic   \n",
       "6  2009   44        2. Married  4. Other  3. Some College  2. Middle Atlantic   \n",
       "7  2008   30  1. Never Married  3. Asian  3. Some College  2. Middle Atlantic   \n",
       "8  2006   41  1. Never Married  2. Black  3. Some College  2. Middle Atlantic   \n",
       "9  2004   52        2. Married  1. White       2. HS Grad  2. Middle Atlantic   \n",
       "\n",
       "         jobclass          health health_ins   logwage        wage  \n",
       "0   1. Industrial       1. <=Good      2. No  4.318063   75.043154  \n",
       "1  2. Information  2. >=Very Good      2. No  4.255273   70.476020  \n",
       "2   1. Industrial       1. <=Good     1. Yes  4.875061  130.982177  \n",
       "3  2. Information  2. >=Very Good     1. Yes  5.041393  154.685293  \n",
       "4  2. Information       1. <=Good     1. Yes  4.318063   75.043154  \n",
       "5  2. Information  2. >=Very Good     1. Yes  4.845098  127.115744  \n",
       "6   1. Industrial  2. >=Very Good     1. Yes  5.133021  169.528538  \n",
       "7  2. Information       1. <=Good     1. Yes  4.716003  111.720849  \n",
       "8  2. Information  2. >=Very Good     1. Yes  4.778151  118.884359  \n",
       "9  2. Information  2. >=Very Good     1. Yes  4.857332  128.680488  "
      ]
     },
     "execution_count": 6,
     "metadata": {},
     "output_type": "execute_result"
    }
   ],
   "source": [
    "data.head(10)"
   ]
  },
  {
   "cell_type": "code",
   "execution_count": 10,
   "id": "0015600d-b5bf-4b5b-8157-45f2f4b10197",
   "metadata": {},
   "outputs": [
    {
     "data": {
      "text/html": [
       "<div>\n",
       "<style scoped>\n",
       "    .dataframe tbody tr th:only-of-type {\n",
       "        vertical-align: middle;\n",
       "    }\n",
       "\n",
       "    .dataframe tbody tr th {\n",
       "        vertical-align: top;\n",
       "    }\n",
       "\n",
       "    .dataframe thead th {\n",
       "        text-align: right;\n",
       "    }\n",
       "</style>\n",
       "<table border=\"1\" class=\"dataframe\">\n",
       "  <thead>\n",
       "    <tr style=\"text-align: right;\">\n",
       "      <th></th>\n",
       "      <th>year</th>\n",
       "      <th>age</th>\n",
       "      <th>maritl</th>\n",
       "      <th>race</th>\n",
       "      <th>education</th>\n",
       "      <th>region</th>\n",
       "      <th>jobclass</th>\n",
       "      <th>health</th>\n",
       "      <th>health_ins</th>\n",
       "      <th>logwage</th>\n",
       "      <th>wage</th>\n",
       "    </tr>\n",
       "  </thead>\n",
       "  <tbody>\n",
       "    <tr>\n",
       "      <th>2990</th>\n",
       "      <td>2009</td>\n",
       "      <td>50</td>\n",
       "      <td>2. Married</td>\n",
       "      <td>2. Black</td>\n",
       "      <td>2. HS Grad</td>\n",
       "      <td>2. Middle Atlantic</td>\n",
       "      <td>1. Industrial</td>\n",
       "      <td>2. &gt;=Very Good</td>\n",
       "      <td>2. No</td>\n",
       "      <td>4.886491</td>\n",
       "      <td>132.487821</td>\n",
       "    </tr>\n",
       "    <tr>\n",
       "      <th>2991</th>\n",
       "      <td>2003</td>\n",
       "      <td>26</td>\n",
       "      <td>1. Never Married</td>\n",
       "      <td>2. Black</td>\n",
       "      <td>3. Some College</td>\n",
       "      <td>2. Middle Atlantic</td>\n",
       "      <td>1. Industrial</td>\n",
       "      <td>2. &gt;=Very Good</td>\n",
       "      <td>2. No</td>\n",
       "      <td>4.778151</td>\n",
       "      <td>118.884359</td>\n",
       "    </tr>\n",
       "    <tr>\n",
       "      <th>2992</th>\n",
       "      <td>2007</td>\n",
       "      <td>35</td>\n",
       "      <td>2. Married</td>\n",
       "      <td>1. White</td>\n",
       "      <td>1. &lt; HS Grad</td>\n",
       "      <td>2. Middle Atlantic</td>\n",
       "      <td>1. Industrial</td>\n",
       "      <td>1. &lt;=Good</td>\n",
       "      <td>2. No</td>\n",
       "      <td>4.698970</td>\n",
       "      <td>109.833986</td>\n",
       "    </tr>\n",
       "    <tr>\n",
       "      <th>2993</th>\n",
       "      <td>2006</td>\n",
       "      <td>31</td>\n",
       "      <td>2. Married</td>\n",
       "      <td>1. White</td>\n",
       "      <td>2. HS Grad</td>\n",
       "      <td>2. Middle Atlantic</td>\n",
       "      <td>2. Information</td>\n",
       "      <td>2. &gt;=Very Good</td>\n",
       "      <td>1. Yes</td>\n",
       "      <td>4.633468</td>\n",
       "      <td>102.870247</td>\n",
       "    </tr>\n",
       "    <tr>\n",
       "      <th>2994</th>\n",
       "      <td>2009</td>\n",
       "      <td>31</td>\n",
       "      <td>2. Married</td>\n",
       "      <td>1. White</td>\n",
       "      <td>4. College Grad</td>\n",
       "      <td>2. Middle Atlantic</td>\n",
       "      <td>2. Information</td>\n",
       "      <td>2. &gt;=Very Good</td>\n",
       "      <td>1. Yes</td>\n",
       "      <td>4.893207</td>\n",
       "      <td>133.380608</td>\n",
       "    </tr>\n",
       "    <tr>\n",
       "      <th>2995</th>\n",
       "      <td>2008</td>\n",
       "      <td>44</td>\n",
       "      <td>2. Married</td>\n",
       "      <td>1. White</td>\n",
       "      <td>3. Some College</td>\n",
       "      <td>2. Middle Atlantic</td>\n",
       "      <td>1. Industrial</td>\n",
       "      <td>2. &gt;=Very Good</td>\n",
       "      <td>1. Yes</td>\n",
       "      <td>5.041393</td>\n",
       "      <td>154.685293</td>\n",
       "    </tr>\n",
       "    <tr>\n",
       "      <th>2996</th>\n",
       "      <td>2007</td>\n",
       "      <td>30</td>\n",
       "      <td>2. Married</td>\n",
       "      <td>1. White</td>\n",
       "      <td>2. HS Grad</td>\n",
       "      <td>2. Middle Atlantic</td>\n",
       "      <td>1. Industrial</td>\n",
       "      <td>2. &gt;=Very Good</td>\n",
       "      <td>2. No</td>\n",
       "      <td>4.602060</td>\n",
       "      <td>99.689464</td>\n",
       "    </tr>\n",
       "    <tr>\n",
       "      <th>2997</th>\n",
       "      <td>2005</td>\n",
       "      <td>27</td>\n",
       "      <td>2. Married</td>\n",
       "      <td>2. Black</td>\n",
       "      <td>1. &lt; HS Grad</td>\n",
       "      <td>2. Middle Atlantic</td>\n",
       "      <td>1. Industrial</td>\n",
       "      <td>1. &lt;=Good</td>\n",
       "      <td>2. No</td>\n",
       "      <td>4.193125</td>\n",
       "      <td>66.229408</td>\n",
       "    </tr>\n",
       "    <tr>\n",
       "      <th>2998</th>\n",
       "      <td>2005</td>\n",
       "      <td>27</td>\n",
       "      <td>1. Never Married</td>\n",
       "      <td>1. White</td>\n",
       "      <td>3. Some College</td>\n",
       "      <td>2. Middle Atlantic</td>\n",
       "      <td>1. Industrial</td>\n",
       "      <td>2. &gt;=Very Good</td>\n",
       "      <td>1. Yes</td>\n",
       "      <td>4.477121</td>\n",
       "      <td>87.981033</td>\n",
       "    </tr>\n",
       "    <tr>\n",
       "      <th>2999</th>\n",
       "      <td>2009</td>\n",
       "      <td>55</td>\n",
       "      <td>5. Separated</td>\n",
       "      <td>1. White</td>\n",
       "      <td>2. HS Grad</td>\n",
       "      <td>2. Middle Atlantic</td>\n",
       "      <td>1. Industrial</td>\n",
       "      <td>1. &lt;=Good</td>\n",
       "      <td>1. Yes</td>\n",
       "      <td>4.505150</td>\n",
       "      <td>90.481913</td>\n",
       "    </tr>\n",
       "  </tbody>\n",
       "</table>\n",
       "</div>"
      ],
      "text/plain": [
       "      year  age            maritl      race        education  \\\n",
       "2990  2009   50        2. Married  2. Black       2. HS Grad   \n",
       "2991  2003   26  1. Never Married  2. Black  3. Some College   \n",
       "2992  2007   35        2. Married  1. White     1. < HS Grad   \n",
       "2993  2006   31        2. Married  1. White       2. HS Grad   \n",
       "2994  2009   31        2. Married  1. White  4. College Grad   \n",
       "2995  2008   44        2. Married  1. White  3. Some College   \n",
       "2996  2007   30        2. Married  1. White       2. HS Grad   \n",
       "2997  2005   27        2. Married  2. Black     1. < HS Grad   \n",
       "2998  2005   27  1. Never Married  1. White  3. Some College   \n",
       "2999  2009   55      5. Separated  1. White       2. HS Grad   \n",
       "\n",
       "                  region        jobclass          health health_ins   logwage  \\\n",
       "2990  2. Middle Atlantic   1. Industrial  2. >=Very Good      2. No  4.886491   \n",
       "2991  2. Middle Atlantic   1. Industrial  2. >=Very Good      2. No  4.778151   \n",
       "2992  2. Middle Atlantic   1. Industrial       1. <=Good      2. No  4.698970   \n",
       "2993  2. Middle Atlantic  2. Information  2. >=Very Good     1. Yes  4.633468   \n",
       "2994  2. Middle Atlantic  2. Information  2. >=Very Good     1. Yes  4.893207   \n",
       "2995  2. Middle Atlantic   1. Industrial  2. >=Very Good     1. Yes  5.041393   \n",
       "2996  2. Middle Atlantic   1. Industrial  2. >=Very Good      2. No  4.602060   \n",
       "2997  2. Middle Atlantic   1. Industrial       1. <=Good      2. No  4.193125   \n",
       "2998  2. Middle Atlantic   1. Industrial  2. >=Very Good     1. Yes  4.477121   \n",
       "2999  2. Middle Atlantic   1. Industrial       1. <=Good     1. Yes  4.505150   \n",
       "\n",
       "            wage  \n",
       "2990  132.487821  \n",
       "2991  118.884359  \n",
       "2992  109.833986  \n",
       "2993  102.870247  \n",
       "2994  133.380608  \n",
       "2995  154.685293  \n",
       "2996   99.689464  \n",
       "2997   66.229408  \n",
       "2998   87.981033  \n",
       "2999   90.481913  "
      ]
     },
     "execution_count": 10,
     "metadata": {},
     "output_type": "execute_result"
    }
   ],
   "source": [
    "data.tail(10)"
   ]
  },
  {
   "cell_type": "code",
   "execution_count": 14,
   "id": "46e526a7-af14-4fdd-a080-c8a2384f55f4",
   "metadata": {},
   "outputs": [
    {
     "name": "stdout",
     "output_type": "stream",
     "text": [
      "3000\n"
     ]
    }
   ],
   "source": [
    "num_rows = len(data)\n",
    "print(num_rows)"
   ]
  },
  {
   "cell_type": "code",
   "execution_count": 18,
   "id": "b10f520f-5934-4120-a48a-81b0421d3031",
   "metadata": {},
   "outputs": [
    {
     "name": "stdout",
     "output_type": "stream",
     "text": [
      "<class 'pandas.core.frame.DataFrame'>\n",
      "RangeIndex: 3000 entries, 0 to 2999\n",
      "Data columns (total 11 columns):\n",
      " #   Column      Non-Null Count  Dtype  \n",
      "---  ------      --------------  -----  \n",
      " 0   year        3000 non-null   int64  \n",
      " 1   age         3000 non-null   int64  \n",
      " 2   maritl      3000 non-null   object \n",
      " 3   race        3000 non-null   object \n",
      " 4   education   3000 non-null   object \n",
      " 5   region      3000 non-null   object \n",
      " 6   jobclass    3000 non-null   object \n",
      " 7   health      3000 non-null   object \n",
      " 8   health_ins  3000 non-null   object \n",
      " 9   logwage     3000 non-null   float64\n",
      " 10  wage        3000 non-null   float64\n",
      "dtypes: float64(2), int64(2), object(7)\n",
      "memory usage: 257.9+ KB\n"
     ]
    }
   ],
   "source": [
    "#Display metadata\n",
    "data.info()"
   ]
  },
  {
   "cell_type": "code",
   "execution_count": 24,
   "id": "f9c445f8-a002-4745-abd7-f956e7677fe0",
   "metadata": {},
   "outputs": [
    {
     "name": "stdout",
     "output_type": "stream",
     "text": [
      "wage         float64\n",
      "education     object\n",
      "dtype: object\n"
     ]
    }
   ],
   "source": [
    "#Check data types of 2 columns\n",
    "check = ['wage', 'education']\n",
    "print(data[check].dtypes)"
   ]
  },
  {
   "cell_type": "code",
   "execution_count": 26,
   "id": "ec3791f4-3d71-4aea-8d5a-c671a31ae1e1",
   "metadata": {},
   "outputs": [
    {
     "name": "stdout",
     "output_type": "stream",
     "text": [
      "Index(['year', 'age', 'maritl', 'race', 'education', 'region', 'jobclass',\n",
      "       'health', 'health_ins', 'logwage', 'wage'],\n",
      "      dtype='object')\n"
     ]
    }
   ],
   "source": [
    "#column names\n",
    "print(data.columns)"
   ]
  },
  {
   "cell_type": "code",
   "execution_count": 28,
   "id": "be9a9f57-956a-4878-84f8-283eef9e4140",
   "metadata": {},
   "outputs": [
    {
     "data": {
      "text/plain": [
       "RangeIndex(start=0, stop=3000, step=1)"
      ]
     },
     "execution_count": 28,
     "metadata": {},
     "output_type": "execute_result"
    }
   ],
   "source": [
    "data.index"
   ]
  },
  {
   "cell_type": "code",
   "execution_count": 30,
   "id": "9aff4c6f-78e8-40c0-91bf-bac8a7219745",
   "metadata": {},
   "outputs": [
    {
     "data": {
      "text/plain": [
       "33000"
      ]
     },
     "execution_count": 30,
     "metadata": {},
     "output_type": "execute_result"
    }
   ],
   "source": [
    "data.size"
   ]
  },
  {
   "cell_type": "code",
   "execution_count": 32,
   "id": "8faf46ca-1e46-41eb-99f6-725f678f5c21",
   "metadata": {},
   "outputs": [
    {
     "data": {
      "text/plain": [
       "(3000, 11)"
      ]
     },
     "execution_count": 32,
     "metadata": {},
     "output_type": "execute_result"
    }
   ],
   "source": [
    "data.shape"
   ]
  },
  {
   "cell_type": "code",
   "execution_count": 36,
   "id": "26d2080d-7e19-4949-83c1-cc2521c226d7",
   "metadata": {},
   "outputs": [
    {
     "name": "stdout",
     "output_type": "stream",
     "text": [
      "               age         wage\n",
      "count  3000.000000  3000.000000\n",
      "mean     42.414667   111.703608\n",
      "std      11.542406    41.728595\n",
      "min      18.000000    20.085537\n",
      "25%      33.750000    85.383940\n",
      "50%      42.000000   104.921507\n",
      "75%      51.000000   128.680488\n",
      "max      80.000000   318.342430\n"
     ]
    }
   ],
   "source": [
    "descriptive = data[['age', 'wage']].describe()\n",
    "print(descriptive)"
   ]
  },
  {
   "cell_type": "code",
   "execution_count": 34,
   "id": "796c6729-a559-4d3d-99b2-b9760be8fe6e",
   "metadata": {},
   "outputs": [
    {
     "name": "stdout",
     "output_type": "stream",
     "text": [
      "             age                                                         wage  \\\n",
      "           count       mean        std   min    25%   50%   75%   max   count   \n",
      "race                                                                            \n",
      "1. White  2480.0  42.394758  11.365655  18.0  34.00  42.0  51.0  80.0  2480.0   \n",
      "2. Black   293.0  43.563140  13.012913  18.0  33.00  44.0  52.0  75.0   293.0   \n",
      "3. Asian   190.0  41.821053  11.218823  22.0  32.25  40.0  50.0  76.0   190.0   \n",
      "4. Other    37.0  37.702703  11.553895  21.0  28.00  39.0  47.0  65.0    37.0   \n",
      "\n",
      "                                                                               \\\n",
      "                mean        std        min        25%         50%         75%   \n",
      "race                                                                            \n",
      "1. White  112.563666  41.733830  20.085537  86.695155  106.348256  130.042934   \n",
      "2. Black  101.601177  37.162486  23.274704  81.283253   94.072715  117.146817   \n",
      "3. Asian  120.288288  46.422514  34.607418  87.981033  115.375039  144.828129   \n",
      "4. Other   89.973326  29.153530  38.223583  71.319639   81.283253  104.921507   \n",
      "\n",
      "                      \n",
      "                 max  \n",
      "race                  \n",
      "1. White  314.329336  \n",
      "2. Black  318.342430  \n",
      "3. Asian  299.262977  \n",
      "4. Other  169.528538  \n"
     ]
    }
   ],
   "source": [
    "descriptive_stats = data.groupby('race')[['age', 'wage']].describe()\n",
    "print(descriptive_stats)"
   ]
  },
  {
   "cell_type": "code",
   "execution_count": 38,
   "id": "b7a0dbc8-a4d4-4190-8b73-e42e33d3e7ab",
   "metadata": {},
   "outputs": [],
   "source": [
    "#The means here tell us Asian workers on average have the highest wages. The median says the true middle for all races is 104.92\n"
   ]
  },
  {
   "cell_type": "code",
   "execution_count": 40,
   "id": "579356f7-efd0-4fe5-93ae-c4f42fe52c51",
   "metadata": {},
   "outputs": [
    {
     "data": {
      "text/html": [
       "<div>\n",
       "<style scoped>\n",
       "    .dataframe tbody tr th:only-of-type {\n",
       "        vertical-align: middle;\n",
       "    }\n",
       "\n",
       "    .dataframe tbody tr th {\n",
       "        vertical-align: top;\n",
       "    }\n",
       "\n",
       "    .dataframe thead th {\n",
       "        text-align: right;\n",
       "    }\n",
       "</style>\n",
       "<table border=\"1\" class=\"dataframe\">\n",
       "  <thead>\n",
       "    <tr style=\"text-align: right;\">\n",
       "      <th></th>\n",
       "      <th>age</th>\n",
       "      <th>wage</th>\n",
       "    </tr>\n",
       "  </thead>\n",
       "  <tbody>\n",
       "    <tr>\n",
       "      <th>0</th>\n",
       "      <td>18</td>\n",
       "      <td>75.043154</td>\n",
       "    </tr>\n",
       "    <tr>\n",
       "      <th>1</th>\n",
       "      <td>24</td>\n",
       "      <td>70.476020</td>\n",
       "    </tr>\n",
       "    <tr>\n",
       "      <th>2</th>\n",
       "      <td>45</td>\n",
       "      <td>130.982177</td>\n",
       "    </tr>\n",
       "    <tr>\n",
       "      <th>3</th>\n",
       "      <td>43</td>\n",
       "      <td>154.685293</td>\n",
       "    </tr>\n",
       "    <tr>\n",
       "      <th>4</th>\n",
       "      <td>50</td>\n",
       "      <td>75.043154</td>\n",
       "    </tr>\n",
       "    <tr>\n",
       "      <th>...</th>\n",
       "      <td>...</td>\n",
       "      <td>...</td>\n",
       "    </tr>\n",
       "    <tr>\n",
       "      <th>2995</th>\n",
       "      <td>44</td>\n",
       "      <td>154.685293</td>\n",
       "    </tr>\n",
       "    <tr>\n",
       "      <th>2996</th>\n",
       "      <td>30</td>\n",
       "      <td>99.689464</td>\n",
       "    </tr>\n",
       "    <tr>\n",
       "      <th>2997</th>\n",
       "      <td>27</td>\n",
       "      <td>66.229408</td>\n",
       "    </tr>\n",
       "    <tr>\n",
       "      <th>2998</th>\n",
       "      <td>27</td>\n",
       "      <td>87.981033</td>\n",
       "    </tr>\n",
       "    <tr>\n",
       "      <th>2999</th>\n",
       "      <td>55</td>\n",
       "      <td>90.481913</td>\n",
       "    </tr>\n",
       "  </tbody>\n",
       "</table>\n",
       "<p>3000 rows × 2 columns</p>\n",
       "</div>"
      ],
      "text/plain": [
       "      age        wage\n",
       "0      18   75.043154\n",
       "1      24   70.476020\n",
       "2      45  130.982177\n",
       "3      43  154.685293\n",
       "4      50   75.043154\n",
       "...   ...         ...\n",
       "2995   44  154.685293\n",
       "2996   30   99.689464\n",
       "2997   27   66.229408\n",
       "2998   27   87.981033\n",
       "2999   55   90.481913\n",
       "\n",
       "[3000 rows x 2 columns]"
      ]
     },
     "execution_count": 40,
     "metadata": {},
     "output_type": "execute_result"
    }
   ],
   "source": [
    "reordered = data[['age', 'wage']]\n",
    "reordered"
   ]
  },
  {
   "cell_type": "code",
   "execution_count": 42,
   "id": "15419ea1-4377-499b-aa45-eaadac98910a",
   "metadata": {},
   "outputs": [
    {
     "data": {
      "text/plain": [
       "0.1956372015635886"
      ]
     },
     "execution_count": 42,
     "metadata": {},
     "output_type": "execute_result"
    }
   ],
   "source": [
    "correlation = data['age'].corr(data['wage'])\n",
    "correlation"
   ]
  },
  {
   "cell_type": "code",
   "execution_count": 44,
   "id": "e56fd1a6-c27c-45ea-a869-30c57a3f7530",
   "metadata": {},
   "outputs": [],
   "source": [
    "#These variables are not highly correlated. "
   ]
  },
  {
   "cell_type": "code",
   "execution_count": 46,
   "id": "0f180e70-fbd0-43a8-a441-a6f87661d245",
   "metadata": {},
   "outputs": [
    {
     "name": "stdout",
     "output_type": "stream",
     "text": [
      "      year  age            maritl      race           education  \\\n",
      "206   2007   63        2. Married  2. Black  5. Advanced Degree   \n",
      "1229  2007   46        2. Married  2. Black          2. HS Grad   \n",
      "503   2003   38  1. Never Married  1. White     3. Some College   \n",
      "1293  2009   38        2. Married  2. Black          2. HS Grad   \n",
      "1112  2006   34  1. Never Married  2. Black  5. Advanced Degree   \n",
      "2712  2006   58        2. Married  2. Black     3. Some College   \n",
      "2893  2003   40        2. Married  3. Asian  5. Advanced Degree   \n",
      "2925  2005   39        2. Married  1. White          2. HS Grad   \n",
      "489   2007   41        2. Married  1. White  5. Advanced Degree   \n",
      "347   2007   43        2. Married  1. White  5. Advanced Degree   \n",
      "\n",
      "                  region        jobclass          health health_ins   logwage  \\\n",
      "206   2. Middle Atlantic  2. Information  2. >=Very Good     1. Yes  5.763128   \n",
      "1229  2. Middle Atlantic  2. Information  2. >=Very Good     1. Yes  5.763128   \n",
      "503   2. Middle Atlantic  2. Information  2. >=Very Good     1. Yes  5.750441   \n",
      "1293  2. Middle Atlantic  2. Information       1. <=Good     1. Yes  5.742793   \n",
      "1112  2. Middle Atlantic  2. Information  2. >=Very Good     1. Yes  5.735190   \n",
      "2712  2. Middle Atlantic  2. Information       1. <=Good      2. No  5.735190   \n",
      "2893  2. Middle Atlantic  2. Information  2. >=Very Good     1. Yes  5.701323   \n",
      "2925  2. Middle Atlantic   1. Industrial  2. >=Very Good      2. No  5.690330   \n",
      "489   2. Middle Atlantic  2. Information  2. >=Very Good     1. Yes  5.650820   \n",
      "347   2. Middle Atlantic  2. Information  2. >=Very Good     1. Yes  5.641006   \n",
      "\n",
      "            wage  \n",
      "206   318.342430  \n",
      "1229  318.342430  \n",
      "503   314.329336  \n",
      "1293  311.934569  \n",
      "1112  309.571771  \n",
      "2712  309.571771  \n",
      "2893  299.262977  \n",
      "2925  295.991250  \n",
      "489   284.524741  \n",
      "347   281.745971  \n"
     ]
    }
   ],
   "source": [
    "top_10_wage = data.nlargest(10, 'wage')\n",
    "print(top_10_wage)"
   ]
  },
  {
   "cell_type": "code",
   "execution_count": 48,
   "id": "d5e04c3f-c6f7-44c9-ab26-71d7daf8a727",
   "metadata": {},
   "outputs": [
    {
     "data": {
      "text/plain": [
       "race\n",
       "1. White    2480\n",
       "2. Black     293\n",
       "3. Asian     190\n",
       "4. Other      37\n",
       "Name: count, dtype: int64"
      ]
     },
     "execution_count": 48,
     "metadata": {},
     "output_type": "execute_result"
    }
   ],
   "source": [
    "data['race'].value_counts()"
   ]
  },
  {
   "cell_type": "code",
   "execution_count": 50,
   "id": "0cfef230-7987-4271-bd9f-290483c23eb2",
   "metadata": {},
   "outputs": [
    {
     "data": {
      "text/plain": [
       "race\n",
       "1. White    0.826667\n",
       "2. Black    0.097667\n",
       "3. Asian    0.063333\n",
       "4. Other    0.012333\n",
       "Name: proportion, dtype: float64"
      ]
     },
     "execution_count": 50,
     "metadata": {},
     "output_type": "execute_result"
    }
   ],
   "source": [
    "data['race'].value_counts(normalize=True)"
   ]
  },
  {
   "cell_type": "code",
   "execution_count": 52,
   "id": "ab309b28-c790-4fd9-9984-d0d2c53675a2",
   "metadata": {},
   "outputs": [
    {
     "ename": "TypeError",
     "evalue": "IndexOpsMixin.value_counts() got an unexpected keyword argument 'nomalize'",
     "output_type": "error",
     "traceback": [
      "\u001b[1;31m---------------------------------------------------------------------------\u001b[0m",
      "\u001b[1;31mTypeError\u001b[0m                                 Traceback (most recent call last)",
      "Cell \u001b[1;32mIn[52], line 1\u001b[0m\n\u001b[1;32m----> 1\u001b[0m data[\u001b[38;5;124m'\u001b[39m\u001b[38;5;124mregion\u001b[39m\u001b[38;5;124m'\u001b[39m]\u001b[38;5;241m.\u001b[39mvalue_counts(nomalize\u001b[38;5;241m=\u001b[39m\u001b[38;5;28;01mTrue\u001b[39;00m)\u001b[38;5;241m.\u001b[39mplot(kind\u001b[38;5;241m=\u001b[39mbar)\n",
      "\u001b[1;31mTypeError\u001b[0m: IndexOpsMixin.value_counts() got an unexpected keyword argument 'nomalize'"
     ]
    }
   ],
   "source": [
    "data['region'].value_counts(nomalize=True).plot(kind=bar)"
   ]
  }
 ],
 "metadata": {
  "kernelspec": {
   "display_name": "Python 3 (ipykernel)",
   "language": "python",
   "name": "python3"
  },
  "language_info": {
   "codemirror_mode": {
    "name": "ipython",
    "version": 3
   },
   "file_extension": ".py",
   "mimetype": "text/x-python",
   "name": "python",
   "nbconvert_exporter": "python",
   "pygments_lexer": "ipython3",
   "version": "3.12.4"
  }
 },
 "nbformat": 4,
 "nbformat_minor": 5
}
